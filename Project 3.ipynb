{
 "cells": [
  {
   "cell_type": "code",
   "execution_count": 1,
   "id": "e68d1314",
   "metadata": {},
   "outputs": [],
   "source": [
    "# Imports\n",
    "import pandas as pd\n",
    "import numpy as np"
   ]
  },
  {
   "cell_type": "code",
   "execution_count": 2,
   "id": "8d5288b9",
   "metadata": {},
   "outputs": [],
   "source": [
    "# Data filenames\n",
    "basics_url = 'https://datasets.imdbws.com/title.basics.tsv.gz'\n",
    "ratings_url = 'https://datasets.imdbws.com/title.ratings.tsv.gz'\n",
    "akas_url = 'https://datasets.imdbws.com/title.akas.tsv.gz'"
   ]
  },
  {
   "cell_type": "code",
   "execution_count": 3,
   "id": "98b5ab29",
   "metadata": {},
   "outputs": [],
   "source": [
    "# Load Data\n",
    "basics = pd.read_csv(basics_url, sep='\\t', low_memory=False)\n",
    "ratings = pd.read_csv(ratings_url, sep='\\t', low_memory=False)\n",
    "akas = pd.read_csv(akas_url, sep='\\t', low_memory=False)"
   ]
  },
  {
   "cell_type": "markdown",
   "id": "7a5668f0",
   "metadata": {},
   "source": [
    "# Filtering/Cleaning"
   ]
  },
  {
   "cell_type": "markdown",
   "id": "dd11b834",
   "metadata": {},
   "source": [
    "## Replace \"\\N\" (missing values) with np.nan and make them permanent"
   ]
  },
  {
   "cell_type": "code",
   "execution_count": 4,
   "id": "19098867",
   "metadata": {},
   "outputs": [
    {
     "data": {
      "text/plain": [
       "tconst             0\n",
       "titleType          0\n",
       "primaryTitle      11\n",
       "originalTitle     11\n",
       "isAdult            0\n",
       "startYear          0\n",
       "endYear            0\n",
       "runtimeMinutes     0\n",
       "genres            11\n",
       "dtype: int64"
      ]
     },
     "execution_count": 4,
     "metadata": {},
     "output_type": "execute_result"
    }
   ],
   "source": [
    "# Check missing values for all dataframes and replace with NAN\n",
    "basics.isna().sum()"
   ]
  },
  {
   "cell_type": "code",
   "execution_count": 5,
   "id": "1c505b92",
   "metadata": {},
   "outputs": [
    {
     "data": {
      "text/plain": [
       "tconst           0\n",
       "averageRating    0\n",
       "numVotes         0\n",
       "dtype: int64"
      ]
     },
     "execution_count": 5,
     "metadata": {},
     "output_type": "execute_result"
    }
   ],
   "source": [
    "ratings.isna().sum()"
   ]
  },
  {
   "cell_type": "code",
   "execution_count": 6,
   "id": "30f0da3b",
   "metadata": {},
   "outputs": [
    {
     "data": {
      "text/plain": [
       "titleId              0\n",
       "ordering             0\n",
       "title                5\n",
       "region             111\n",
       "language             0\n",
       "types                0\n",
       "attributes           0\n",
       "isOriginalTitle      0\n",
       "dtype: int64"
      ]
     },
     "execution_count": 6,
     "metadata": {},
     "output_type": "execute_result"
    }
   ],
   "source": [
    "akas.isna().sum()"
   ]
  },
  {
   "cell_type": "code",
   "execution_count": 7,
   "id": "a02b97a4",
   "metadata": {},
   "outputs": [],
   "source": [
    "basics.replace({'\\\\N':np.nan}, inplace=True)\n",
    "akas.replace({'\\\\N':np.nan}, inplace=True)"
   ]
  },
  {
   "cell_type": "markdown",
   "id": "f5c6733b",
   "metadata": {},
   "source": [
    "## Eliminate movies that are null for runtimeMinutes (in 'basics' df)"
   ]
  },
  {
   "cell_type": "code",
   "execution_count": 8,
   "id": "c15a1baa",
   "metadata": {},
   "outputs": [],
   "source": [
    "# Drop rows in 'basics' df for null in 'runtimeMinutes' column and re-display\n",
    "basics = basics.dropna(subset=['runtimeMinutes'])"
   ]
  },
  {
   "cell_type": "code",
   "execution_count": 9,
   "id": "c23ef6ef",
   "metadata": {},
   "outputs": [
    {
     "data": {
      "text/plain": [
       "0"
      ]
     },
     "execution_count": 9,
     "metadata": {},
     "output_type": "execute_result"
    }
   ],
   "source": [
    "basics['runtimeMinutes'].isna().sum()"
   ]
  },
  {
   "cell_type": "markdown",
   "id": "60beb602",
   "metadata": {},
   "source": [
    "## Eliminate movies that are null for genre"
   ]
  },
  {
   "cell_type": "code",
   "execution_count": 10,
   "id": "67528fa1",
   "metadata": {},
   "outputs": [
    {
     "data": {
      "text/plain": [
       "tconst                  0\n",
       "titleType               0\n",
       "primaryTitle            1\n",
       "originalTitle           1\n",
       "isAdult                 0\n",
       "startYear          161585\n",
       "endYear           2731308\n",
       "runtimeMinutes          0\n",
       "genres                  0\n",
       "dtype: int64"
      ]
     },
     "execution_count": 10,
     "metadata": {},
     "output_type": "execute_result"
    }
   ],
   "source": [
    "# Drop rows in 'basics' df for null in 'genre' column and re-display\n",
    "basics.dropna(subset=['genres'], inplace=True)\n",
    "basics.isna().sum()"
   ]
  },
  {
   "cell_type": "markdown",
   "id": "84b051b7",
   "metadata": {},
   "source": [
    "## Keep only titleType==Movie"
   ]
  },
  {
   "cell_type": "code",
   "execution_count": 11,
   "id": "366400c5",
   "metadata": {},
   "outputs": [
    {
     "data": {
      "text/plain": [
       "tvEpisode       1400096\n",
       "short            596005\n",
       "movie            379725\n",
       "video            179599\n",
       "tvMovie           91143\n",
       "tvSeries          89865\n",
       "tvSpecial         17874\n",
       "tvMiniSeries      17000\n",
       "tvShort            8720\n",
       "videoGame           317\n",
       "Name: titleType, dtype: int64"
      ]
     },
     "execution_count": 11,
     "metadata": {},
     "output_type": "execute_result"
    }
   ],
   "source": [
    "# Display all unique values in 'titleType' column\n",
    "basics['titleType'].value_counts()"
   ]
  },
  {
   "cell_type": "code",
   "execution_count": 12,
   "id": "1de9b90a",
   "metadata": {},
   "outputs": [
    {
     "data": {
      "text/plain": [
       "movie    379725\n",
       "Name: titleType, dtype: int64"
      ]
     },
     "execution_count": 12,
     "metadata": {},
     "output_type": "execute_result"
    }
   ],
   "source": [
    "# Keep only the 'Movie' category and re-display to confirm\n",
    "basics = basics[basics['titleType']=='movie']\n",
    "basics['titleType'].value_counts()"
   ]
  },
  {
   "cell_type": "markdown",
   "id": "e03a8cc4",
   "metadata": {},
   "source": [
    "## Keep startYear 2000-2022"
   ]
  },
  {
   "cell_type": "code",
   "execution_count": 29,
   "id": "d0f34e03",
   "metadata": {},
   "outputs": [
    {
     "data": {
      "text/plain": [
       "129"
      ]
     },
     "execution_count": 29,
     "metadata": {},
     "output_type": "execute_result"
    }
   ],
   "source": [
    "# Display number of unique values in 'startYear' column\n",
    "basics['startYear'].nunique()"
   ]
  },
  {
   "cell_type": "code",
   "execution_count": 36,
   "id": "0c139389",
   "metadata": {},
   "outputs": [
    {
     "data": {
      "text/plain": [
       "2017    14356\n",
       "2018    14302\n",
       "2019    14029\n",
       "2016    13937\n",
       "2015    13452\n",
       "2014    13081\n",
       "2022    12541\n",
       "2013    12366\n",
       "2021    12279\n",
       "2012    11612\n",
       "2020    11529\n",
       "2011    10760\n",
       "2010    10194\n",
       "2009     9335\n",
       "2008     8139\n",
       "2007     6950\n",
       "2006     6500\n",
       "2005     5814\n",
       "2004     5186\n",
       "2003     4577\n",
       "2002     4127\n",
       "2001     3853\n",
       "2000     3633\n",
       "Name: startYear, dtype: int64"
      ]
     },
     "execution_count": 36,
     "metadata": {},
     "output_type": "execute_result"
    }
   ],
   "source": [
    "# Keep only years 2000-2022 and re-display values\n",
    "basics = basics[basics['startYear'].isin(['2000','2001','2002','2003','2004',\n",
    "                                         '2005','2006','2007','2008','2009',\n",
    "                                         '2010','2011','2012','2013','2014',\n",
    "                                         '2015','2016','2017','2018','2019',\n",
    "                                         '2020','2021','2022'])]\n",
    "basics['startYear'].value_counts()"
   ]
  },
  {
   "cell_type": "markdown",
   "id": "4832ba47",
   "metadata": {},
   "source": [
    "## Eliminate movies that include \"Documentary\" in genre"
   ]
  },
  {
   "cell_type": "code",
   "execution_count": 39,
   "id": "bb429a4d",
   "metadata": {},
   "outputs": [
    {
     "data": {
      "text/plain": [
       "Drama                         35920\n",
       "Comedy                        13419\n",
       "Comedy,Drama                   6449\n",
       "Horror                         5770\n",
       "Drama,Romance                  4299\n",
       "                              ...  \n",
       "Action,Animation,Game-Show        1\n",
       "Family,Musical,Sport              1\n",
       "Horror,Music,Mystery              1\n",
       "Comedy,History,Mystery            1\n",
       "Crime,Fantasy,Sci-Fi              1\n",
       "Name: genres, Length: 969, dtype: int64"
      ]
     },
     "execution_count": 39,
     "metadata": {},
     "output_type": "execute_result"
    }
   ],
   "source": [
    "# Exclude movies that are included in the documentary category and re-display value counts\n",
    "is_documentary = basics['genres'].str.contains('documentary',case=False)\n",
    "basics = basics[~is_documentary]\n",
    "basics['genres'].value_counts()"
   ]
  },
  {
   "cell_type": "markdown",
   "id": "d2af14f7",
   "metadata": {},
   "source": [
    "## Keep only US movies "
   ]
  },
  {
   "cell_type": "code",
   "execution_count": 40,
   "id": "4a109591",
   "metadata": {},
   "outputs": [
    {
     "data": {
      "text/plain": [
       "34803      True\n",
       "61116      True\n",
       "67669      True\n",
       "77964      True\n",
       "86801      True\n",
       "           ... \n",
       "9722329    True\n",
       "9722338    True\n",
       "9722377    True\n",
       "9722422    True\n",
       "9722506    True\n",
       "Name: tconst, Length: 147049, dtype: bool"
      ]
     },
     "execution_count": 40,
     "metadata": {},
     "output_type": "execute_result"
    }
   ],
   "source": [
    "# Filter the 'basics' table down to only include the US by using the filter 'akas' dataframe\n",
    "keepers =basics['tconst'].isin(akas['titleId'])\n",
    "keepers\n"
   ]
  },
  {
   "cell_type": "code",
   "execution_count": 41,
   "id": "7473dbf1",
   "metadata": {},
   "outputs": [
    {
     "data": {
      "text/html": [
       "<div>\n",
       "<style scoped>\n",
       "    .dataframe tbody tr th:only-of-type {\n",
       "        vertical-align: middle;\n",
       "    }\n",
       "\n",
       "    .dataframe tbody tr th {\n",
       "        vertical-align: top;\n",
       "    }\n",
       "\n",
       "    .dataframe thead th {\n",
       "        text-align: right;\n",
       "    }\n",
       "</style>\n",
       "<table border=\"1\" class=\"dataframe\">\n",
       "  <thead>\n",
       "    <tr style=\"text-align: right;\">\n",
       "      <th></th>\n",
       "      <th>tconst</th>\n",
       "      <th>titleType</th>\n",
       "      <th>primaryTitle</th>\n",
       "      <th>originalTitle</th>\n",
       "      <th>isAdult</th>\n",
       "      <th>startYear</th>\n",
       "      <th>endYear</th>\n",
       "      <th>runtimeMinutes</th>\n",
       "      <th>genres</th>\n",
       "    </tr>\n",
       "  </thead>\n",
       "  <tbody>\n",
       "    <tr>\n",
       "      <th>34803</th>\n",
       "      <td>tt0035423</td>\n",
       "      <td>movie</td>\n",
       "      <td>Kate &amp; Leopold</td>\n",
       "      <td>Kate &amp; Leopold</td>\n",
       "      <td>0</td>\n",
       "      <td>2001</td>\n",
       "      <td>NaN</td>\n",
       "      <td>118</td>\n",
       "      <td>Comedy,Fantasy,Romance</td>\n",
       "    </tr>\n",
       "    <tr>\n",
       "      <th>61116</th>\n",
       "      <td>tt0062336</td>\n",
       "      <td>movie</td>\n",
       "      <td>The Tango of the Widower and Its Distorting Mi...</td>\n",
       "      <td>El tango del viudo y su espejo deformante</td>\n",
       "      <td>0</td>\n",
       "      <td>2020</td>\n",
       "      <td>NaN</td>\n",
       "      <td>70</td>\n",
       "      <td>Drama</td>\n",
       "    </tr>\n",
       "    <tr>\n",
       "      <th>67669</th>\n",
       "      <td>tt0069049</td>\n",
       "      <td>movie</td>\n",
       "      <td>The Other Side of the Wind</td>\n",
       "      <td>The Other Side of the Wind</td>\n",
       "      <td>0</td>\n",
       "      <td>2018</td>\n",
       "      <td>NaN</td>\n",
       "      <td>122</td>\n",
       "      <td>Drama</td>\n",
       "    </tr>\n",
       "    <tr>\n",
       "      <th>77964</th>\n",
       "      <td>tt0079644</td>\n",
       "      <td>movie</td>\n",
       "      <td>November 1828</td>\n",
       "      <td>November 1828</td>\n",
       "      <td>0</td>\n",
       "      <td>2001</td>\n",
       "      <td>NaN</td>\n",
       "      <td>140</td>\n",
       "      <td>Drama,War</td>\n",
       "    </tr>\n",
       "    <tr>\n",
       "      <th>86801</th>\n",
       "      <td>tt0088751</td>\n",
       "      <td>movie</td>\n",
       "      <td>The Naked Monster</td>\n",
       "      <td>The Naked Monster</td>\n",
       "      <td>0</td>\n",
       "      <td>2005</td>\n",
       "      <td>NaN</td>\n",
       "      <td>100</td>\n",
       "      <td>Comedy,Horror,Sci-Fi</td>\n",
       "    </tr>\n",
       "    <tr>\n",
       "      <th>...</th>\n",
       "      <td>...</td>\n",
       "      <td>...</td>\n",
       "      <td>...</td>\n",
       "      <td>...</td>\n",
       "      <td>...</td>\n",
       "      <td>...</td>\n",
       "      <td>...</td>\n",
       "      <td>...</td>\n",
       "      <td>...</td>\n",
       "    </tr>\n",
       "    <tr>\n",
       "      <th>9722329</th>\n",
       "      <td>tt9916170</td>\n",
       "      <td>movie</td>\n",
       "      <td>The Rehearsal</td>\n",
       "      <td>O Ensaio</td>\n",
       "      <td>0</td>\n",
       "      <td>2019</td>\n",
       "      <td>NaN</td>\n",
       "      <td>51</td>\n",
       "      <td>Drama</td>\n",
       "    </tr>\n",
       "    <tr>\n",
       "      <th>9722338</th>\n",
       "      <td>tt9916190</td>\n",
       "      <td>movie</td>\n",
       "      <td>Safeguard</td>\n",
       "      <td>Safeguard</td>\n",
       "      <td>0</td>\n",
       "      <td>2020</td>\n",
       "      <td>NaN</td>\n",
       "      <td>95</td>\n",
       "      <td>Action,Adventure,Thriller</td>\n",
       "    </tr>\n",
       "    <tr>\n",
       "      <th>9722377</th>\n",
       "      <td>tt9916270</td>\n",
       "      <td>movie</td>\n",
       "      <td>Il talento del calabrone</td>\n",
       "      <td>Il talento del calabrone</td>\n",
       "      <td>0</td>\n",
       "      <td>2020</td>\n",
       "      <td>NaN</td>\n",
       "      <td>84</td>\n",
       "      <td>Thriller</td>\n",
       "    </tr>\n",
       "    <tr>\n",
       "      <th>9722422</th>\n",
       "      <td>tt9916362</td>\n",
       "      <td>movie</td>\n",
       "      <td>Coven</td>\n",
       "      <td>Akelarre</td>\n",
       "      <td>0</td>\n",
       "      <td>2020</td>\n",
       "      <td>NaN</td>\n",
       "      <td>92</td>\n",
       "      <td>Drama,History</td>\n",
       "    </tr>\n",
       "    <tr>\n",
       "      <th>9722506</th>\n",
       "      <td>tt9916538</td>\n",
       "      <td>movie</td>\n",
       "      <td>Kuambil Lagi Hatiku</td>\n",
       "      <td>Kuambil Lagi Hatiku</td>\n",
       "      <td>0</td>\n",
       "      <td>2019</td>\n",
       "      <td>NaN</td>\n",
       "      <td>123</td>\n",
       "      <td>Drama</td>\n",
       "    </tr>\n",
       "  </tbody>\n",
       "</table>\n",
       "<p>146408 rows × 9 columns</p>\n",
       "</div>"
      ],
      "text/plain": [
       "            tconst titleType  \\\n",
       "34803    tt0035423     movie   \n",
       "61116    tt0062336     movie   \n",
       "67669    tt0069049     movie   \n",
       "77964    tt0079644     movie   \n",
       "86801    tt0088751     movie   \n",
       "...            ...       ...   \n",
       "9722329  tt9916170     movie   \n",
       "9722338  tt9916190     movie   \n",
       "9722377  tt9916270     movie   \n",
       "9722422  tt9916362     movie   \n",
       "9722506  tt9916538     movie   \n",
       "\n",
       "                                              primaryTitle  \\\n",
       "34803                                       Kate & Leopold   \n",
       "61116    The Tango of the Widower and Its Distorting Mi...   \n",
       "67669                           The Other Side of the Wind   \n",
       "77964                                        November 1828   \n",
       "86801                                    The Naked Monster   \n",
       "...                                                    ...   \n",
       "9722329                                      The Rehearsal   \n",
       "9722338                                          Safeguard   \n",
       "9722377                           Il talento del calabrone   \n",
       "9722422                                              Coven   \n",
       "9722506                                Kuambil Lagi Hatiku   \n",
       "\n",
       "                                     originalTitle isAdult startYear endYear  \\\n",
       "34803                               Kate & Leopold       0      2001     NaN   \n",
       "61116    El tango del viudo y su espejo deformante       0      2020     NaN   \n",
       "67669                   The Other Side of the Wind       0      2018     NaN   \n",
       "77964                                November 1828       0      2001     NaN   \n",
       "86801                            The Naked Monster       0      2005     NaN   \n",
       "...                                            ...     ...       ...     ...   \n",
       "9722329                                   O Ensaio       0      2019     NaN   \n",
       "9722338                                  Safeguard       0      2020     NaN   \n",
       "9722377                   Il talento del calabrone       0      2020     NaN   \n",
       "9722422                                   Akelarre       0      2020     NaN   \n",
       "9722506                        Kuambil Lagi Hatiku       0      2019     NaN   \n",
       "\n",
       "        runtimeMinutes                     genres  \n",
       "34803              118     Comedy,Fantasy,Romance  \n",
       "61116               70                      Drama  \n",
       "67669              122                      Drama  \n",
       "77964              140                  Drama,War  \n",
       "86801              100       Comedy,Horror,Sci-Fi  \n",
       "...                ...                        ...  \n",
       "9722329             51                      Drama  \n",
       "9722338             95  Action,Adventure,Thriller  \n",
       "9722377             84                   Thriller  \n",
       "9722422             92              Drama,History  \n",
       "9722506            123                      Drama  \n",
       "\n",
       "[146408 rows x 9 columns]"
      ]
     },
     "execution_count": 41,
     "metadata": {},
     "output_type": "execute_result"
    }
   ],
   "source": [
    "# Filter 'basics' df\n",
    "basics = basics[keepers]\n",
    "basics"
   ]
  },
  {
   "cell_type": "code",
   "execution_count": 45,
   "id": "6cd50272",
   "metadata": {},
   "outputs": [
    {
     "data": {
      "text/plain": [
       "0           True\n",
       "1           True\n",
       "2           True\n",
       "3           True\n",
       "4           True\n",
       "           ...  \n",
       "1294281     True\n",
       "1294282     True\n",
       "1294283    False\n",
       "1294284    False\n",
       "1294285    False\n",
       "Name: tconst, Length: 1294286, dtype: bool"
      ]
     },
     "execution_count": 45,
     "metadata": {},
     "output_type": "execute_result"
    }
   ],
   "source": [
    "# Keep only US movies in 'ratings' df\n",
    "# Filter the 'basics' table down to only include the US by using the filter 'akas' dataframe\n",
    "keepers2 =ratings['tconst'].isin(akas['titleId'])\n",
    "keepers2"
   ]
  },
  {
   "cell_type": "code",
   "execution_count": 46,
   "id": "1d1c4a25",
   "metadata": {},
   "outputs": [
    {
     "data": {
      "text/html": [
       "<div>\n",
       "<style scoped>\n",
       "    .dataframe tbody tr th:only-of-type {\n",
       "        vertical-align: middle;\n",
       "    }\n",
       "\n",
       "    .dataframe tbody tr th {\n",
       "        vertical-align: top;\n",
       "    }\n",
       "\n",
       "    .dataframe thead th {\n",
       "        text-align: right;\n",
       "    }\n",
       "</style>\n",
       "<table border=\"1\" class=\"dataframe\">\n",
       "  <thead>\n",
       "    <tr style=\"text-align: right;\">\n",
       "      <th></th>\n",
       "      <th>tconst</th>\n",
       "      <th>averageRating</th>\n",
       "      <th>numVotes</th>\n",
       "    </tr>\n",
       "  </thead>\n",
       "  <tbody>\n",
       "    <tr>\n",
       "      <th>0</th>\n",
       "      <td>tt0000001</td>\n",
       "      <td>5.7</td>\n",
       "      <td>1965</td>\n",
       "    </tr>\n",
       "    <tr>\n",
       "      <th>1</th>\n",
       "      <td>tt0000002</td>\n",
       "      <td>5.8</td>\n",
       "      <td>263</td>\n",
       "    </tr>\n",
       "    <tr>\n",
       "      <th>2</th>\n",
       "      <td>tt0000003</td>\n",
       "      <td>6.5</td>\n",
       "      <td>1803</td>\n",
       "    </tr>\n",
       "    <tr>\n",
       "      <th>3</th>\n",
       "      <td>tt0000004</td>\n",
       "      <td>5.6</td>\n",
       "      <td>179</td>\n",
       "    </tr>\n",
       "    <tr>\n",
       "      <th>4</th>\n",
       "      <td>tt0000005</td>\n",
       "      <td>6.2</td>\n",
       "      <td>2603</td>\n",
       "    </tr>\n",
       "    <tr>\n",
       "      <th>...</th>\n",
       "      <td>...</td>\n",
       "      <td>...</td>\n",
       "      <td>...</td>\n",
       "    </tr>\n",
       "    <tr>\n",
       "      <th>1294266</th>\n",
       "      <td>tt9916460</td>\n",
       "      <td>9.4</td>\n",
       "      <td>18</td>\n",
       "    </tr>\n",
       "    <tr>\n",
       "      <th>1294269</th>\n",
       "      <td>tt9916538</td>\n",
       "      <td>8.6</td>\n",
       "      <td>7</td>\n",
       "    </tr>\n",
       "    <tr>\n",
       "      <th>1294270</th>\n",
       "      <td>tt9916544</td>\n",
       "      <td>6.9</td>\n",
       "      <td>62</td>\n",
       "    </tr>\n",
       "    <tr>\n",
       "      <th>1294281</th>\n",
       "      <td>tt9916730</td>\n",
       "      <td>8.3</td>\n",
       "      <td>10</td>\n",
       "    </tr>\n",
       "    <tr>\n",
       "      <th>1294282</th>\n",
       "      <td>tt9916766</td>\n",
       "      <td>7.0</td>\n",
       "      <td>21</td>\n",
       "    </tr>\n",
       "  </tbody>\n",
       "</table>\n",
       "<p>969318 rows × 3 columns</p>\n",
       "</div>"
      ],
      "text/plain": [
       "            tconst  averageRating  numVotes\n",
       "0        tt0000001            5.7      1965\n",
       "1        tt0000002            5.8       263\n",
       "2        tt0000003            6.5      1803\n",
       "3        tt0000004            5.6       179\n",
       "4        tt0000005            6.2      2603\n",
       "...            ...            ...       ...\n",
       "1294266  tt9916460            9.4        18\n",
       "1294269  tt9916538            8.6         7\n",
       "1294270  tt9916544            6.9        62\n",
       "1294281  tt9916730            8.3        10\n",
       "1294282  tt9916766            7.0        21\n",
       "\n",
       "[969318 rows x 3 columns]"
      ]
     },
     "execution_count": 46,
     "metadata": {},
     "output_type": "execute_result"
    }
   ],
   "source": [
    "# Filter 'ratings' df\n",
    "ratings = ratings[keepers2]\n",
    "ratings"
   ]
  },
  {
   "cell_type": "code",
   "execution_count": 49,
   "id": "77db16f5",
   "metadata": {},
   "outputs": [
    {
     "data": {
      "text/plain": [
       "5           US\n",
       "14          US\n",
       "33          US\n",
       "36          US\n",
       "41          US\n",
       "            ..\n",
       "35380742    US\n",
       "35380812    US\n",
       "35380901    US\n",
       "35380944    US\n",
       "35380960    US\n",
       "Name: region, Length: 1424968, dtype: object"
      ]
     },
     "execution_count": 49,
     "metadata": {},
     "output_type": "execute_result"
    }
   ],
   "source": [
    "# Keep only US movies in 'akas' df\n",
    "akas = akas[akas['region']=='US']\n",
    "akas['region']"
   ]
  }
 ],
 "metadata": {
  "kernelspec": {
   "display_name": "Python (dojo-env)",
   "language": "python",
   "name": "dojo-env"
  },
  "language_info": {
   "codemirror_mode": {
    "name": "ipython",
    "version": 3
   },
   "file_extension": ".py",
   "mimetype": "text/x-python",
   "name": "python",
   "nbconvert_exporter": "python",
   "pygments_lexer": "ipython3",
   "version": "3.9.15"
  },
  "toc": {
   "base_numbering": 1,
   "nav_menu": {},
   "number_sections": false,
   "sideBar": true,
   "skip_h1_title": false,
   "title_cell": "Table of Contents",
   "title_sidebar": "Contents",
   "toc_cell": false,
   "toc_position": {},
   "toc_section_display": true,
   "toc_window_display": false
  }
 },
 "nbformat": 4,
 "nbformat_minor": 5
}
